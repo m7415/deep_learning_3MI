{
 "cells": [
  {
   "cell_type": "code",
   "execution_count": 1,
   "metadata": {},
   "outputs": [],
   "source": [
    "from scipy.io import loadmat\n",
    "from scipy.io import savemat\n",
    "import numpy as np\n",
    "import pandas as pd\n",
    "import matplotlib.pyplot as plt\n",
    "import os\n",
    "import sys\n",
    "\n",
    "import random\n",
    "from tqdm import tqdm\n",
    "\n",
    "%load_ext autoreload"
   ]
  },
  {
   "cell_type": "code",
   "execution_count": 10,
   "metadata": {},
   "outputs": [],
   "source": [
    "%autoreload 2\n",
    "from fpst import *"
   ]
  },
  {
   "cell_type": "code",
   "execution_count": 5,
   "metadata": {},
   "outputs": [],
   "source": [
    "if \"google.colab\" in sys.modules:\n",
    "    root_dir = os.path.join(\n",
    "        os.getcwd(), \"drive\", \"MyDrive\", \"Colab Notebooks\"\n",
    "    )\n",
    "    data_dir = os.path.join(root_dir, \"data\")\n",
    "else:\n",
    "    root_dir = os.getcwd()\n",
    "    data_dir = os.path.join(root_dir, \"data\")\n",
    "\n",
    "dir = os.path.join(data_dir, \"SPST_perfect\")"
   ]
  },
  {
   "cell_type": "code",
   "execution_count": null,
   "metadata": {},
   "outputs": [],
   "source": [
    "# Compute the FPST\n",
    "\n",
    "file = loadmat(os.path.join(dir, \"SPSTdata_2_pol-60.mat\"))\n",
    "\n",
    "maps = file[\"AcombineAll\"][0]\n",
    "X = file[\"Xnom_dumARRAY\"][0]\n",
    "Y = file[\"Ynom_dumARRAY\"][0]\n",
    "\n",
    "len_map = 26\n",
    "len_map_big = 512\n",
    "\n",
    "forbiden = [196, 197, 216, 217, 236, 237, 251, 255, 256, 262, 276, 277, 297, 317]\n",
    "ind_forbiden = []\n",
    "\n",
    "coords = []\n",
    "for l in range(len(X)):\n",
    "    # ignore the additional values in the center\n",
    "    if X[l] not in forbiden and Y[l] not in forbiden:\n",
    "        coords.append((X[l], Y[l]))\n",
    "    else:\n",
    "        ind_forbiden.append(l)\n",
    "\n",
    "print(\"Overhead done, starting the loop\", flush=True)\n",
    "\n",
    "fpsts = get_maps(maps, coords, ind_forbiden, len_map, len_map_big)"
   ]
  },
  {
   "cell_type": "code",
   "execution_count": null,
   "metadata": {},
   "outputs": [],
   "source": [
    "ind = random.randint(0, len(fpsts))\n",
    "\n",
    "fpst = fpsts[ind]\n",
    "fpst = np.log10(np.abs(fpst))\n",
    "\n",
    "plt.imshow(fpst, cmap=\"jet\")\n",
    "plt.colorbar()\n",
    "plt.show()"
   ]
  },
  {
   "cell_type": "code",
   "execution_count": 288,
   "metadata": {},
   "outputs": [],
   "source": [
    "dict = {\n",
    "    \"fpsts\": fpsts,\n",
    "    \"forbiden\": forbiden,\n",
    "    \"coords\": coords,\n",
    "}\n",
    "savemat(os.path.join(dir, \"FPSTdata_2_pol-60.mat\"), dict)"
   ]
  },
  {
   "cell_type": "code",
   "execution_count": null,
   "metadata": {},
   "outputs": [],
   "source": [
    "# Test densification\n",
    "\n",
    "ind = random.randint(0, len(fpsts))\n",
    "\n",
    "fpst = fpsts[ind]\n",
    "\n",
    "#map2 = densify_to(map, 26 * 2)\n",
    "\n",
    "fpst2, orig = densify_to(fpst, 32, None)\n",
    "\"\"\" map2, orig = densify_to(map2, 64, orig)\n",
    "map2, orig = densify_to(map2, 128, orig)\n",
    "map2, orig = densify_to(map2, 256, orig)\n",
    "\n",
    "map3 = rev_densify_to(map2, 128)\n",
    "map3 = rev_densify_to(map3, 64)\n",
    "map3 = rev_densify_to(map3, 32) \"\"\"\n",
    "fpst3 = rev_densify_to(fpst2, 26)\n",
    "\n",
    "\"\"\" for i in range(len(orig)):\n",
    "    for j in range(len(orig)):\n",
    "        map2[orig[i][j][0]][orig[i][j][1]] = 0 \"\"\"\n",
    "\n",
    "# compute the difference between the two maps\n",
    "diff = np.sum(np.abs(fpst - fpst3), where=~np.isnan(fpst))\n",
    "print(diff)\n",
    "\n",
    "# plot the maps\n",
    "fig, axs = plt.subplots(1, 3, figsize=(10, 5))\n",
    "axs[0].imshow(fpst, cmap=\"jet\")\n",
    "axs[0].set_title(\"Original map\")\n",
    "# print the densified map with the original points red\n",
    "axs[1].imshow(fpst2, cmap=\"jet\")\n",
    "axs[1].scatter(\n",
    "    [orig[x][y][0] for x in range(len(orig)) for y in range(len(orig))],\n",
    "    [orig[x][y][1] for x in range(len(orig)) for y in range(len(orig))],\n",
    "    c=\"red\",\n",
    "    s=1,\n",
    "    marker=\"s\",\n",
    ")\n",
    "axs[1].set_title(\"Densified map\")\n",
    "axs[2].imshow(fpst3, cmap=\"jet\")\n",
    "axs[2].set_title(\"Reversed map\")\n",
    "plt.show()"
   ]
  },
  {
   "cell_type": "code",
   "execution_count": null,
   "metadata": {},
   "outputs": [],
   "source": [
    "# Compute the FPSTs for the 3MI channels\n",
    "\n",
    "len_map = 64\n",
    "len_map_big = 512\n",
    "\n",
    "grids = [\"interpol_64\", \"interpol_128\"]\n",
    "channels = [[(2, -60), (2, 60), (2, 0), (3, -60), (4, -60)], [(2, -60), (2, 60), (3, -60)]]\n",
    "\n",
    "for i in range(len(grids)):\n",
    "    for j in range(len(channels[i])):\n",
    "        path = os.path.join(data_dir, grids[i], \"Maps_3MI\" + str(channels[i][j][0]) + \"_\" + str(channels[i][j][1]))\n",
    "        maps, coords = load_data(path, len_map_big)\n",
    "\n",
    "        fpsts = get_maps(maps, coords, [], len_map, len_map_big)\n",
    "\n",
    "        dir_path = os.path.join(data_dir, grids[i], \"FPST_3MI\" + str(channels[i][j][0]) + \"_\" + str(channels[i][j][1]))\n",
    "        # create the directory if it doesn't exist\n",
    "        if not os.path.exists(dir_path):\n",
    "            os.makedirs(dir_path)\n",
    "        \n",
    "        save_data(dir_path, fpsts, coords)\n",
    "        print(\"Done with \" + grids[i] + \" \" + str(channels[i][j][0]) + \"_\" + str(channels[i][j][1]))"
   ]
  }
 ],
 "metadata": {
  "kernelspec": {
   "display_name": "venv",
   "language": "python",
   "name": "python3"
  },
  "language_info": {
   "codemirror_mode": {
    "name": "ipython",
    "version": 3
   },
   "file_extension": ".py",
   "mimetype": "text/x-python",
   "name": "python",
   "nbconvert_exporter": "python",
   "pygments_lexer": "ipython3",
   "version": "3.11.4"
  },
  "orig_nbformat": 4
 },
 "nbformat": 4,
 "nbformat_minor": 2
}
