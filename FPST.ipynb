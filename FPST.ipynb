{
  "cells": [
    {
      "cell_type": "code",
      "execution_count": 1,
      "metadata": {
        "colab": {
          "base_uri": "https://localhost:8080/"
        },
        "id": "EXb8DIfSbfjf",
        "outputId": "1b2eef03-1df5-4572-ed71-9d01e65d27cb"
      },
      "outputs": [],
      "source": [
        "from scipy.io import loadmat\n",
        "from scipy.io import savemat\n",
        "import numpy as np\n",
        "import pandas as pd\n",
        "import matplotlib.pyplot as plt\n",
        "import os\n",
        "import sys\n",
        "\n",
        "import random\n",
        "\n",
        "%load_ext autoreload"
      ]
    },
    {
      "cell_type": "code",
      "execution_count": 2,
      "metadata": {
        "id": "3tpg5VJWbfjk"
      },
      "outputs": [],
      "source": [
        "%autoreload 2\n",
        "from classes.fpst import *"
      ]
    },
    {
      "cell_type": "code",
      "execution_count": 3,
      "metadata": {
        "id": "YAJlhLr1bfjl"
      },
      "outputs": [],
      "source": [
        "if \"google.colab\" in sys.modules:\n",
        "    root_dir = os.path.join(\n",
        "        os.getcwd(), \"drive\", \"MyDrive\", \"Colab Notebooks\"\n",
        "    )\n",
        "    data_dir = os.path.join(root_dir, \"data\")\n",
        "else:\n",
        "    root_dir = os.getcwd()\n",
        "    data_dir = os.path.join(root_dir, \"data\")\n",
        "\n",
        "dir = os.path.join(data_dir, \"SPST_perfect\")"
      ]
    },
    {
      "cell_type": "code",
      "execution_count": 4,
      "metadata": {
        "id": "fN0tuEZgbfjm"
      },
      "outputs": [],
      "source": [
        "file = loadmat(os.path.join(dir, \"FPSTdata_2_pol-60.mat\"))\n",
        "\n",
        "fpsts_26 = file[\"fpsts\"]\n",
        "forbiden = file[\"forbiden\"][0]\n",
        "coords_26 = file[\"coords\"]\n",
        "\n",
        "fpsts_26 = fpsts_26[:10000]\n",
        "coords_26 = coords_26[:10000]"
      ]
    },
    {
      "cell_type": "code",
      "execution_count": 5,
      "metadata": {
        "id": "pJE5pBZmbfjn"
      },
      "outputs": [],
      "source": [
        "from PIL import Image\n",
        "\n",
        "fpsts_32 = np.empty((len(fpsts_26), 32, 32))\n",
        "for i in range(len(fpsts_26)):\n",
        "    # Interpolate the map to 32x32 using the nearest neighbour method\n",
        "    fpsts_32[i] = np.array(Image.fromarray(fpsts_26[i]).resize((32, 32), resample=Image.NEAREST))\n",
        "\n",
        "# free memory\n",
        "del fpsts_26"
      ]
    },
    {
      "cell_type": "code",
      "execution_count": 6,
      "metadata": {
        "colab": {
          "base_uri": "https://localhost:8080/"
        },
        "id": "eYwlu_O1bfjm",
        "outputId": "85a29ed2-56fd-4d35-f746-32ee4e34b053"
      },
      "outputs": [
        {
          "name": "stdout",
          "output_type": "stream",
          "text": [
            "Overhead done, starting the loop\n"
          ]
        },
        {
          "name": "stderr",
          "output_type": "stream",
          "text": [
            "Process: 100%|██████████| 10000/10000 [00:15<00:00, 629.07task/s]\n"
          ]
        }
      ],
      "source": [
        "dir_path = os.path.join(data_dir, \"interpol_64\", \"FPST_3MI2_-60\")\n",
        "total_tasks = 10000 #(512 * 512)\n",
        "\n",
        "fpsts_64, coords_64 = load_FPST(dir_path, total_tasks)"
      ]
    },
    {
      "cell_type": "code",
      "execution_count": 15,
      "metadata": {},
      "outputs": [],
      "source": [
        "fpsts_32 = map(process, fpsts_32)\n",
        "fpsts_64 = map(process, fpsts_64)\n",
        "\n",
        "fpsts_32 = np.array(list(fpsts_32))\n",
        "fpsts_64 = np.array(list(fpsts_64))\n",
        "\n",
        "max_32 = np.max(fpsts_32)\n",
        "min_32 = np.min(fpsts_32)\n",
        "fpsts_32 = (fpsts_32 - min_32) / (max_32 - min_32)\n",
        "\n",
        "max_64 = np.max(fpsts_64)\n",
        "min_64 = np.min(fpsts_64)\n",
        "fpsts_64 = (fpsts_64 - min_64) / (max_64 - min_64)"
      ]
    },
    {
      "cell_type": "code",
      "execution_count": 154,
      "metadata": {},
      "outputs": [],
      "source": [
        "\"\"\" fpsts_26 = fpsts_26 * (max_26 - min_26) + min_26\n",
        "fpsts_64 = fpsts_64 * (max_64 - min_64) + min_64\n",
        "\n",
        "fpsts_26 = map(rev_process, fpsts_26)\n",
        "fpsts_64 = map(rev_process, fpsts_64)\n",
        "\n",
        "fpsts_26 = np.array(list(fpsts_26))\n",
        "fpsts_64 = np.array(list(fpsts_64)) \"\"\""
      ]
    },
    {
      "cell_type": "code",
      "execution_count": 54,
      "metadata": {
        "colab": {
          "base_uri": "https://localhost:8080/",
          "height": 522
        },
        "id": "pBW0HG2obfjo",
        "outputId": "b5962b99-6487-4a3a-df41-bb78b6a83f77"
      },
      "outputs": [
        {
          "data": {
            "text/plain": [
              "' ind = random.randint(0, len(fpsts_64))\\nprint(ind)\\n\\nfpst_32 = fpsts_32[ind]\\nfpst_64 = fpsts_64[ind]\\n\\nfig, axs = plt.subplots(1, 2, figsize=(10, 5))\\naxs[0].imshow(fpst_32, cmap=\"jet\")\\naxs[0].set_title(\"32x32\")\\naxs[1].imshow(fpst_64, cmap=\"jet\")\\naxs[1].set_title(\"64x64\")\\nplt.show() '"
            ]
          },
          "execution_count": 54,
          "metadata": {},
          "output_type": "execute_result"
        }
      ],
      "source": [
        "\"\"\" ind = random.randint(0, len(fpsts_64))\n",
        "print(ind)\n",
        "\n",
        "fpst_32 = fpsts_32[ind]\n",
        "fpst_64 = fpsts_64[ind]\n",
        "\n",
        "fig, axs = plt.subplots(1, 2, figsize=(10, 5))\n",
        "axs[0].imshow(fpst_32, cmap=\"jet\")\n",
        "axs[0].set_title(\"32x32\")\n",
        "axs[1].imshow(fpst_64, cmap=\"jet\")\n",
        "axs[1].set_title(\"64x64\")\n",
        "plt.show() \"\"\""
      ]
    },
    {
      "cell_type": "code",
      "execution_count": 19,
      "metadata": {
        "id": "zq3ru4F4bfjr"
      },
      "outputs": [],
      "source": [
        "from sklearn.model_selection import train_test_split\n",
        "X_train, X_test, Y_train, Y_test = train_test_split(fpsts_32[:total_tasks], fpsts_64, test_size=0.2, random_state=42)"
      ]
    },
    {
      "cell_type": "code",
      "execution_count": 20,
      "metadata": {
        "id": "ZIWotnMvVWHI"
      },
      "outputs": [],
      "source": [
        "X_train = np.expand_dims(X_train, axis=-1)\n",
        "Y_train = np.expand_dims(Y_train, axis=-1)\n",
        "X_test = np.expand_dims(X_test, axis=-1)\n",
        "Y_test = np.expand_dims(Y_test, axis=-1)"
      ]
    },
    {
      "cell_type": "code",
      "execution_count": 55,
      "metadata": {
        "id": "y2LctL1ebfjp"
      },
      "outputs": [],
      "source": [
        "from classes.models_fpst import get_basic_cnn"
      ]
    },
    {
      "cell_type": "code",
      "execution_count": 57,
      "metadata": {},
      "outputs": [
        {
          "data": {
            "text/plain": [
              "\" basic_cnn = get_basic_cnn([32, 64, 128], (32, 32), (64, 64))\\nbasic_cnn.compile(optimizer='adam', loss='mse')\\nbasic_cnn.summary() \""
            ]
          },
          "execution_count": 57,
          "metadata": {},
          "output_type": "execute_result"
        }
      ],
      "source": [
        "\"\"\" basic_cnn = get_basic_cnn([32, 64, 128], (32, 32), (64, 64))\n",
        "basic_cnn.compile(optimizer='adam', loss='mse')\n",
        "basic_cnn.summary() \"\"\""
      ]
    },
    {
      "cell_type": "code",
      "execution_count": 48,
      "metadata": {},
      "outputs": [],
      "source": [
        "# Load the model\n",
        "\n",
        "#model = keras.models.load_model(os.path.join(model_dir, \"FPST_32_64_basic_conv.h5\"))"
      ]
    },
    {
      "cell_type": "code",
      "execution_count": 42,
      "metadata": {
        "colab": {
          "base_uri": "https://localhost:8080/"
        },
        "id": "J4dnUXdgbfjs",
        "outputId": "34234905-054d-4afa-c9d0-89a840045f07"
      },
      "outputs": [
        {
          "name": "stdout",
          "output_type": "stream",
          "text": [
            "Epoch 1/10\n",
            "200/200 [==============================] - 250s 1s/step - loss: 0.0026 - val_loss: 3.8518e-04\n",
            "Epoch 2/10\n",
            "200/200 [==============================] - 233s 1s/step - loss: 4.5736e-04 - val_loss: 0.0015\n",
            "Epoch 3/10\n",
            "200/200 [==============================] - 238s 1s/step - loss: 2.9750e-04 - val_loss: 1.9572e-04\n",
            "Epoch 4/10\n",
            "200/200 [==============================] - 233s 1s/step - loss: 1.9857e-04 - val_loss: 1.7737e-04\n",
            "Epoch 5/10\n",
            "200/200 [==============================] - 233s 1s/step - loss: 1.4501e-04 - val_loss: 1.1375e-04\n",
            "Epoch 6/10\n",
            "200/200 [==============================] - 234s 1s/step - loss: 1.3553e-04 - val_loss: 1.3529e-04\n",
            "Epoch 7/10\n",
            "200/200 [==============================] - 236s 1s/step - loss: 1.3485e-04 - val_loss: 1.4513e-04\n",
            "Epoch 8/10\n",
            "200/200 [==============================] - 235s 1s/step - loss: 1.1634e-04 - val_loss: 2.0774e-04\n",
            "Epoch 9/10\n",
            "200/200 [==============================] - 237s 1s/step - loss: 1.1981e-04 - val_loss: 1.0764e-04\n",
            "Epoch 10/10\n",
            "200/200 [==============================] - 233s 1s/step - loss: 1.1573e-04 - val_loss: 1.0837e-04\n"
          ]
        }
      ],
      "source": [
        "history = model.fit(X_train, Y_train, epochs=10, batch_size=32, validation_split=0.2)"
      ]
    },
    {
      "cell_type": "code",
      "execution_count": 43,
      "metadata": {},
      "outputs": [
        {
          "data": {
            "image/png": "[encoded data removed]",
            "text/plain": [
              "<Figure size 640x480 with 1 Axes>"
            ]
          },
          "metadata": {},
          "output_type": "display_data"
        }
      ],
      "source": [
        "# Plot the history in log scale\n",
        "plt.plot(history.history['loss'], label='train')\n",
        "plt.plot(history.history['val_loss'], label='test')\n",
        "plt.yscale('log')\n",
        "plt.legend()\n",
        "plt.show()"
      ]
    },
    {
      "cell_type": "code",
      "execution_count": null,
      "metadata": {},
      "outputs": [],
      "source": [
        "# Evaluate the model\n",
        "loss = model.evaluate(X_test, Y_test)\n",
        "print(\"Loss: \", loss)\n",
        "\n",
        "# Evaluate the model with structural similarity index\n",
        "from skimage.metrics import structural_similarity as ssim\n",
        "\n",
        "def ssim_loss(y_true, y_pred):\n",
        "    return 1 - ssim(y_true, y_pred)\n",
        "\n",
        "ssim_loss = model.evaluate(X_test, Y_test, ssim_loss)"
      ]
    },
    {
      "cell_type": "code",
      "execution_count": 51,
      "metadata": {
        "colab": {
          "base_uri": "https://localhost:8080/",
          "height": 504
        },
        "id": "_6fP60FGRQix",
        "outputId": "eb97f726-82ee-44c2-d9cd-9e06880d72aa"
      },
      "outputs": [
        {
          "name": "stdout",
          "output_type": "stream",
          "text": [
            "1/1 [==============================] - 0s 36ms/step\n",
            "(64, 64)\n"
          ]
        },
        {
          "data": {
            "image/png": "[encoded data removed]",
            "text/plain": [
              "<Figure size 1000x500 with 2 Axes>"
            ]
          },
          "metadata": {},
          "output_type": "display_data"
        }
      ],
      "source": [
        "ind = random.randint(0, X_test.shape[0]-1)\n",
        "pred = model.predict(X_test[ind:ind+1])[0,:,:,0]\n",
        "print(pred.shape)\n",
        "\n",
        "fig, axs = plt.subplots(1, 2, figsize=(10, 5))\n",
        "axs[0].imshow(Y_test[ind], cmap=\"jet\")\n",
        "axs[0].set_title(\"label\")\n",
        "axs[1].imshow(pred, cmap=\"jet\")\n",
        "axs[1].set_title(\"pred\")\n",
        "plt.show()"
      ]
    },
    {
      "cell_type": "code",
      "execution_count": 47,
      "metadata": {},
      "outputs": [
        {
          "name": "stderr",
          "output_type": "stream",
          "text": [
            "c:\\Users\\f076048\\Documents\\Stage_CSL\\venv\\Lib\\site-packages\\keras\\src\\engine\\training.py:3000: UserWarning: You are saving your model as an HDF5 file via `model.save()`. This file format is considered legacy. We recommend using instead the native Keras format, e.g. `model.save('my_model.keras')`.\n",
            "  saving_api.save_model(\n"
          ]
        }
      ],
      "source": [
        "# Save the model\n",
        "\n",
        "model_dir = os.path.join(root_dir, \"models\")\n",
        "model.save(os.path.join(model_dir, \"FPST_32_64_basic_conv.h5\"))"
      ]
    }
  ],
  "metadata": {
    "accelerator": "GPU",
    "colab": {
      "gpuType": "T4",
      "machine_shape": "hm",
      "provenance": []
    },
    "kernelspec": {
      "display_name": "Python 3",
      "name": "python3"
    },
    "language_info": {
      "codemirror_mode": {
        "name": "ipython",
        "version": 3
      },
      "file_extension": ".py",
      "mimetype": "text/x-python",
      "name": "python",
      "nbconvert_exporter": "python",
      "pygments_lexer": "ipython3",
      "version": "3.11.4"
    },
    "orig_nbformat": 4
  },
  "nbformat": 4,
  "nbformat_minor": 0
}
