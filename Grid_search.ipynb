{
  "cells": [
    {
      "cell_type": "code",
      "execution_count": 1,
      "metadata": {
        "execution": {
          "iopub.execute_input": "2023-05-26T12:54:53.734697Z",
          "iopub.status.busy": "2023-05-26T12:54:53.734249Z",
          "iopub.status.idle": "2023-05-26T12:54:53.828223Z",
          "shell.execute_reply": "2023-05-26T12:54:53.827237Z",
          "shell.execute_reply.started": "2023-05-26T12:54:53.734661Z"
        },
        "id": "_GvbpSq_piNz",
        "trusted": true
      },
      "outputs": [],
      "source": [
        "# Nescessary imports\n",
        "\n",
        "%matplotlib inline\n",
        "\n",
        "# supress warnings\n",
        "import warnings\n",
        "warnings.filterwarnings('ignore')\n",
        "\n",
        "import os\n",
        "os.environ['TF_CPP_MIN_LOG_LEVEL'] = '2' # supress tensorflow warnings\n",
        "\n",
        "\n",
        "# import libraries\n",
        "import sys\n",
        "import random\n",
        "import time\n",
        "import numpy as np\n",
        "import pandas as pd\n",
        "import matplotlib.pyplot as plt\n",
        "import seaborn as sns\n",
        "\n",
        "import tensorflow as tf\n",
        "from tensorflow import keras\n",
        "from keras.optimizers import Adadelta\n",
        "from sklearn.model_selection import train_test_split\n",
        "\n",
        "# set random seed\n",
        "random.seed(42)\n",
        "\n",
        "%load_ext autoreload"
      ]
    },
    {
      "cell_type": "code",
      "execution_count": 2,
      "metadata": {
        "execution": {
          "iopub.execute_input": "2023-05-26T12:54:53.912447Z",
          "iopub.status.busy": "2023-05-26T12:54:53.912109Z",
          "iopub.status.idle": "2023-05-26T12:54:56.081266Z",
          "shell.execute_reply": "2023-05-26T12:54:56.080064Z",
          "shell.execute_reply.started": "2023-05-26T12:54:53.912417Z"
        },
        "trusted": true,
        "id": "WhXOtWSv37_J"
      },
      "outputs": [],
      "source": [
        "%autoreload 2\n",
        "from data_wraper import Dataset"
      ]
    },
    {
      "cell_type": "code",
      "execution_count": 3,
      "metadata": {
        "colab": {
          "base_uri": "https://localhost:8080/"
        },
        "execution": {
          "iopub.execute_input": "2023-05-26T12:54:56.083551Z",
          "iopub.status.busy": "2023-05-26T12:54:56.083150Z",
          "iopub.status.idle": "2023-05-26T12:54:56.655106Z",
          "shell.execute_reply": "2023-05-26T12:54:56.653999Z",
          "shell.execute_reply.started": "2023-05-26T12:54:56.083513Z"
        },
        "id": "WTquIrB6B1xI",
        "outputId": "f707b416-3a96-4210-ec35-fa844f07aadf",
        "trusted": true
      },
      "outputs": [
        {
          "output_type": "stream",
          "name": "stdout",
          "text": [
            "Mounted at /content/drive\n"
          ]
        }
      ],
      "source": [
        "# mount google drive if using google colab\n",
        "if 'google.colab' in sys.modules:\n",
        "    from google.colab import drive\n",
        "    drive.mount('/content/drive')"
      ]
    },
    {
      "cell_type": "code",
      "execution_count": 4,
      "metadata": {
        "execution": {
          "iopub.execute_input": "2023-05-26T12:54:56.660247Z",
          "iopub.status.busy": "2023-05-26T12:54:56.659961Z",
          "iopub.status.idle": "2023-05-26T12:54:56.739286Z",
          "shell.execute_reply": "2023-05-26T12:54:56.738338Z",
          "shell.execute_reply.started": "2023-05-26T12:54:56.660222Z"
        },
        "trusted": true,
        "id": "KnHRA-Hc37_J"
      },
      "outputs": [],
      "source": [
        "if 'google.colab' in sys.modules:\n",
        "    root_dir = os.path.join(os.getcwd(), 'drive', 'MyDrive', 'Colab Notebooks')\n",
        "else:\n",
        "    root_dir = os.getcwd()\n",
        "\n",
        "if 'google.colab' in sys.modules:\n",
        "    data_dir = os.path.join(root_dir, 'data')\n",
        "else:\n",
        "    data_dir = os.path.join(root_dir, 'data')"
      ]
    },
    {
      "cell_type": "code",
      "execution_count": 5,
      "metadata": {
        "execution": {
          "iopub.execute_input": "2023-05-26T12:54:56.741204Z",
          "iopub.status.busy": "2023-05-26T12:54:56.740854Z",
          "iopub.status.idle": "2023-05-26T12:54:56.822709Z",
          "shell.execute_reply": "2023-05-26T12:54:56.821652Z",
          "shell.execute_reply.started": "2023-05-26T12:54:56.741171Z"
        },
        "trusted": true,
        "id": "gkTFgvn337_K"
      },
      "outputs": [],
      "source": [
        "paths = {\n",
        "    'FOVfiting2' : os.path.join(data_dir, 'mapsCeline_FOVfitting_2_pol-60.mat'),\n",
        "    '3quadrants2' : os.path.join(data_dir, 'mapsCeline_3quadrants_2_pol-60.mat'),\n",
        "    'FOVfiting3' : os.path.join(data_dir, 'mapsCeline_FOVfitting_3_pol-60.mat'),\n",
        "    '3quadrants3' : os.path.join(data_dir, 'mapsCeline_3quadrants_3_pol-60.mat'),\n",
        "    'FOVfiting4' : os.path.join(data_dir, 'mapsCeline_FOVfitting_4_pol-60.mat'),\n",
        "    '3quadrants4' : os.path.join(data_dir, 'mapsCeline_3quadrants_4_pol-60.mat'),\n",
        "    'FOVfiting5' : os.path.join(data_dir, 'mapsCeline_FOVfitting_5_pol-60.mat'),\n",
        "    '3quadrants5' : os.path.join(data_dir, 'mapsCeline_3quadrants_5_pol-60.mat'),\n",
        "    'FOVfiting6' : os.path.join(data_dir, 'mapsCeline_FOVfitting_6_pol-60.mat'),\n",
        "    '3quadrants6' : os.path.join(data_dir, 'mapsCeline_3quadrants_6_pol-60.mat'),   \n",
        "    'FOVfiting9' : os.path.join(data_dir, 'mapsCeline_FOVfitting_9_pol-60.mat'),\n",
        "    '3quadrants9' : os.path.join(data_dir, 'mapsCeline_3quadrants_9_pol-60.mat'),\n",
        "    'FOVfiting9a' : os.path.join(data_dir, 'mapsCeline_FOVfitting_9a_polNP.mat'),\n",
        "    '3quadrants9a' : os.path.join(data_dir, 'mapsCeline_3quadrants_9a_polNP.mat')\n",
        "}"
      ]
    },
    {
      "cell_type": "code",
      "execution_count": 6,
      "metadata": {
        "execution": {
          "iopub.execute_input": "2023-05-26T12:54:56.824794Z",
          "iopub.status.busy": "2023-05-26T12:54:56.824402Z",
          "iopub.status.idle": "2023-05-26T12:55:06.056509Z",
          "shell.execute_reply": "2023-05-26T12:55:06.055533Z",
          "shell.execute_reply.started": "2023-05-26T12:54:56.824752Z"
        },
        "id": "aiRl4jL1piN3",
        "trusted": true,
        "colab": {
          "base_uri": "https://localhost:8080/"
        },
        "outputId": "dc105beb-fbad-421b-ca38-771ef7a54995"
      },
      "outputs": [
        {
          "output_type": "stream",
          "name": "stdout",
          "text": [
            "Added data from /content/drive/MyDrive/Colab Notebooks/data/mapsCeline_FOVfitting_2_pol-60.mat\n",
            "New lenght: 297\n"
          ]
        }
      ],
      "source": [
        "#calibration_maps = [paths['FOVfiting2'], paths['FOVfiting3'], paths['FOVfiting4'], paths['FOVfiting5'], paths['FOVfiting6'], paths['FOVfiting9'], paths['3quadrants2'], paths['3quadrants3']]\n",
        "#calibration_maps = [map for map in paths.values()]\n",
        "calibration_maps = [paths['FOVfiting2']]\n",
        "dataset = Dataset(calibration_maps)"
      ]
    },
    {
      "cell_type": "code",
      "execution_count": 7,
      "metadata": {
        "execution": {
          "iopub.execute_input": "2023-05-26T12:55:06.058454Z",
          "iopub.status.busy": "2023-05-26T12:55:06.058065Z",
          "iopub.status.idle": "2023-05-26T12:55:06.150198Z",
          "shell.execute_reply": "2023-05-26T12:55:06.149224Z",
          "shell.execute_reply.started": "2023-05-26T12:55:06.058417Z"
        },
        "id": "CT3huijTpiN4",
        "trusted": true
      },
      "outputs": [],
      "source": [
        "dataset.preprocess_data()\n",
        "dataset.crop_data(128)"
      ]
    },
    {
      "cell_type": "code",
      "execution_count": 8,
      "metadata": {
        "id": "QtVx_qjj37_L"
      },
      "outputs": [],
      "source": [
        "X = np.stack((dataset.map1_list, dataset.map2_list, dataset.map3_list), axis=-1)\n",
        "y = dataset.combined_list"
      ]
    },
    {
      "cell_type": "code",
      "execution_count": 9,
      "metadata": {
        "execution": {
          "iopub.execute_input": "2023-05-26T12:55:10.363825Z",
          "iopub.status.busy": "2023-05-26T12:55:10.363443Z",
          "iopub.status.idle": "2023-05-26T12:55:10.664218Z",
          "shell.execute_reply": "2023-05-26T12:55:10.663273Z",
          "shell.execute_reply.started": "2023-05-26T12:55:10.363791Z"
        },
        "id": "t8_7xFfEDDmO",
        "trusted": true,
        "colab": {
          "base_uri": "https://localhost:8080/"
        },
        "outputId": "826f5265-3e18-4115-e20c-fd86a27d8036"
      },
      "outputs": [
        {
          "output_type": "stream",
          "name": "stdout",
          "text": [
            "0.0 0.9999999997128103\n"
          ]
        }
      ],
      "source": [
        "print(np.min(X), np.max(X))"
      ]
    },
    {
      "cell_type": "code",
      "execution_count": 10,
      "metadata": {
        "execution": {
          "iopub.execute_input": "2023-05-26T12:55:11.097735Z",
          "iopub.status.busy": "2023-05-26T12:55:11.096687Z",
          "iopub.status.idle": "2023-05-26T12:55:11.537317Z",
          "shell.execute_reply": "2023-05-26T12:55:11.536260Z",
          "shell.execute_reply.started": "2023-05-26T12:55:11.097700Z"
        },
        "id": "XZ1lu9OvpiN5",
        "trusted": true
      },
      "outputs": [],
      "source": [
        "X_train, X_test, y_train, y_test = train_test_split(X, y, test_size=0.2, random_state=42)"
      ]
    },
    {
      "cell_type": "code",
      "execution_count": 11,
      "metadata": {
        "id": "6-Js3Jbq37_N"
      },
      "outputs": [],
      "source": [
        "def ssim_loss(y_true, y_pred):\n",
        "    return 1 - tf.image.ssim(y_true, y_pred, max_val=1.0)\n",
        "\n",
        "def ssim_mse_loss(y_true, y_pred):\n",
        "    # Compute SSIM loss\n",
        "    ssim_loss = 1 - tf.image.ssim(y_true, y_pred, max_val=1.0)\n",
        "    \n",
        "    # Compute MSE loss\n",
        "    mse_loss = tf.keras.losses.mean_squared_error(y_true, y_pred)\n",
        "    \n",
        "    # Combine SSIM and MSE losses\n",
        "    combined_loss = ssim_loss + mse_loss\n",
        "    \n",
        "    return combined_loss"
      ]
    },
    {
      "cell_type": "code",
      "execution_count": 12,
      "metadata": {
        "id": "-HNKla_M37_O"
      },
      "outputs": [],
      "source": [
        "%autoreload 2\n",
        "from UNet import UNet\n",
        "from Experiment import Experiment\n",
        "from utils import plot_map, plot_radial_profile"
      ]
    },
    {
      "cell_type": "code",
      "execution_count": 13,
      "metadata": {
        "execution": {
          "iopub.execute_input": "2023-05-26T13:06:21.096194Z",
          "iopub.status.busy": "2023-05-26T13:06:21.095828Z",
          "iopub.status.idle": "2023-05-26T13:06:21.178841Z",
          "shell.execute_reply": "2023-05-26T13:06:21.177643Z",
          "shell.execute_reply.started": "2023-05-26T13:06:21.096166Z"
        },
        "id": "gAXaKRjdpiN7",
        "trusted": true
      },
      "outputs": [],
      "source": [
        "# Perform a grid search on experiments\n",
        "\n",
        "model = 'UNet'\n",
        "\n",
        "learning_rates = [0.01, 0.001, 0.0001]\n",
        "optimisers = ['Adam', 'Adadelta']\n",
        "losses = ['MSE', 'SSIM', 'SSIM + MSE'] \n",
        "sizes = [128]\n",
        "filters = [[32,64,128], [64,128,256], [128,256,512]]\n",
        "dropouts = [0.1, 0.2, 0.5]\n",
        "batch_sizes = [16]\n",
        "epochs = [1]\n",
        "\n",
        "if 'google.colab' in sys.modules:\n",
        "    csv_path = os.path.join(root_dir, 'results', model + '.csv')\n",
        "else:\n",
        "    csv_path = os.path.join(root_dir, 'results', model + '.csv')\n",
        "\n",
        "i = 0\n",
        "experiments = []\n",
        "for loss in losses:\n",
        "    if loss == 'MSE':\n",
        "        loss = tf.keras.losses.MeanSquaredError()\n",
        "    elif loss == 'SSIM':\n",
        "        loss = ssim_loss\n",
        "    elif loss == 'SSIM + MSE':\n",
        "        loss = ssim_mse_loss\n",
        "    for size in sizes:\n",
        "        input_size = (size, size, 3)\n",
        "        output_size = (size, size, 1)\n",
        "        for filter in filters:\n",
        "          for dropout in dropouts:\n",
        "            for batch_size in batch_sizes:\n",
        "              for epoch in epochs:\n",
        "                for learning_rate in learning_rates:\n",
        "                  for optimiser_name in optimisers:\n",
        "                    optimiser = None\n",
        "                    if optimiser_name == 'Adam':\n",
        "                      optimiser = tf.keras.optimizers.Adam(learning_rate=learning_rate)\n",
        "                    elif optimiser_name == 'Adadelta':\n",
        "                      optimiser = tf.keras.optimizers.Adadelta(learning_rate=learning_rate)\n",
        "                    model = \"UNet\"\n",
        "                    name = f\"Grid Search {i}\"\n",
        "\n",
        "                    experiment = Experiment(model, name, optimiser, learning_rate, loss, input_size, output_size, filter, dropout, epoch, batch_size, csv_path)\n",
        "                    experiments.append(experiment)\n",
        "                    i += 1"
      ]
    },
    {
      "cell_type": "code",
      "execution_count": 14,
      "metadata": {
        "id": "Bg23LSDW37_O"
      },
      "outputs": [],
      "source": [
        "import threading\n",
        "import concurrent.futures\n",
        "\n",
        "mutex = threading.Lock()\n",
        "\n",
        "def run_experiment(experiment):\n",
        "    experiment.make(X_train, y_train, X_test, y_test)\n",
        "    mutex.acquire()\n",
        "    try:\n",
        "        print(f\"Experiment {experiment.name} finished\")\n",
        "        experiment.save_experiment_csv()\n",
        "    finally:\n",
        "        mutex.release()\n",
        "\n",
        "# Define the maximum number of concurrent threads\n",
        "max_concurrent_threads = 10\n",
        "\n",
        "# Create a thread pool executor with the maximum concurrent threads\n",
        "with concurrent.futures.ThreadPoolExecutor(max_workers=max_concurrent_threads) as executor:\n",
        "    # Submit the experiments to the executor\n",
        "    futures = [executor.submit(run_experiment, experiment) for experiment in experiments]\n",
        "\n",
        "    # Wait for all experiments to complete\n",
        "    concurrent.futures.wait(futures)"
      ]
    },
    {
      "cell_type": "code",
      "execution_count": 15,
      "metadata": {
        "id": "alhNlAE_37_P",
        "colab": {
          "base_uri": "https://localhost:8080/",
          "height": 363
        },
        "outputId": "5d750415-7e61-4b3a-baf2-1f9765856d43"
      },
      "outputs": [
        {
          "output_type": "error",
          "ename": "FileNotFoundError",
          "evalue": "ignored",
          "traceback": [
            "\u001b[0;31m---------------------------------------------------------------------------\u001b[0m",
            "\u001b[0;31mFileNotFoundError\u001b[0m                         Traceback (most recent call last)",
            "\u001b[0;32m<ipython-input-15-3018559be6d8>\u001b[0m in \u001b[0;36m<cell line: 1>\u001b[0;34m()\u001b[0m\n\u001b[0;32m----> 1\u001b[0;31m \u001b[0mdf\u001b[0m \u001b[0;34m=\u001b[0m \u001b[0mpd\u001b[0m\u001b[0;34m.\u001b[0m\u001b[0mread_csv\u001b[0m\u001b[0;34m(\u001b[0m\u001b[0mcsv_path\u001b[0m\u001b[0;34m)\u001b[0m\u001b[0;34m\u001b[0m\u001b[0;34m\u001b[0m\u001b[0m\n\u001b[0m\u001b[1;32m      2\u001b[0m \u001b[0;31m#df.head(len(df))\u001b[0m\u001b[0;34m\u001b[0m\u001b[0;34m\u001b[0m\u001b[0m\n\u001b[1;32m      3\u001b[0m \u001b[0mdf\u001b[0m\u001b[0;34m.\u001b[0m\u001b[0mdescribe\u001b[0m\u001b[0;34m(\u001b[0m\u001b[0;34m)\u001b[0m\u001b[0;34m\u001b[0m\u001b[0;34m\u001b[0m\u001b[0m\n",
            "\u001b[0;32m/usr/local/lib/python3.10/dist-packages/pandas/util/_decorators.py\u001b[0m in \u001b[0;36mwrapper\u001b[0;34m(*args, **kwargs)\u001b[0m\n\u001b[1;32m    209\u001b[0m                 \u001b[0;32melse\u001b[0m\u001b[0;34m:\u001b[0m\u001b[0;34m\u001b[0m\u001b[0;34m\u001b[0m\u001b[0m\n\u001b[1;32m    210\u001b[0m                     \u001b[0mkwargs\u001b[0m\u001b[0;34m[\u001b[0m\u001b[0mnew_arg_name\u001b[0m\u001b[0;34m]\u001b[0m \u001b[0;34m=\u001b[0m \u001b[0mnew_arg_value\u001b[0m\u001b[0;34m\u001b[0m\u001b[0;34m\u001b[0m\u001b[0m\n\u001b[0;32m--> 211\u001b[0;31m             \u001b[0;32mreturn\u001b[0m \u001b[0mfunc\u001b[0m\u001b[0;34m(\u001b[0m\u001b[0;34m*\u001b[0m\u001b[0margs\u001b[0m\u001b[0;34m,\u001b[0m \u001b[0;34m**\u001b[0m\u001b[0mkwargs\u001b[0m\u001b[0;34m)\u001b[0m\u001b[0;34m\u001b[0m\u001b[0;34m\u001b[0m\u001b[0m\n\u001b[0m\u001b[1;32m    212\u001b[0m \u001b[0;34m\u001b[0m\u001b[0m\n\u001b[1;32m    213\u001b[0m         \u001b[0;32mreturn\u001b[0m \u001b[0mcast\u001b[0m\u001b[0;34m(\u001b[0m\u001b[0mF\u001b[0m\u001b[0;34m,\u001b[0m \u001b[0mwrapper\u001b[0m\u001b[0;34m)\u001b[0m\u001b[0;34m\u001b[0m\u001b[0;34m\u001b[0m\u001b[0m\n",
            "\u001b[0;32m/usr/local/lib/python3.10/dist-packages/pandas/util/_decorators.py\u001b[0m in \u001b[0;36mwrapper\u001b[0;34m(*args, **kwargs)\u001b[0m\n\u001b[1;32m    329\u001b[0m                     \u001b[0mstacklevel\u001b[0m\u001b[0;34m=\u001b[0m\u001b[0mfind_stack_level\u001b[0m\u001b[0;34m(\u001b[0m\u001b[0;34m)\u001b[0m\u001b[0;34m,\u001b[0m\u001b[0;34m\u001b[0m\u001b[0;34m\u001b[0m\u001b[0m\n\u001b[1;32m    330\u001b[0m                 )\n\u001b[0;32m--> 331\u001b[0;31m             \u001b[0;32mreturn\u001b[0m \u001b[0mfunc\u001b[0m\u001b[0;34m(\u001b[0m\u001b[0;34m*\u001b[0m\u001b[0margs\u001b[0m\u001b[0;34m,\u001b[0m \u001b[0;34m**\u001b[0m\u001b[0mkwargs\u001b[0m\u001b[0;34m)\u001b[0m\u001b[0;34m\u001b[0m\u001b[0;34m\u001b[0m\u001b[0m\n\u001b[0m\u001b[1;32m    332\u001b[0m \u001b[0;34m\u001b[0m\u001b[0m\n\u001b[1;32m    333\u001b[0m         \u001b[0;31m# error: \"Callable[[VarArg(Any), KwArg(Any)], Any]\" has no\u001b[0m\u001b[0;34m\u001b[0m\u001b[0;34m\u001b[0m\u001b[0m\n",
            "\u001b[0;32m/usr/local/lib/python3.10/dist-packages/pandas/io/parsers/readers.py\u001b[0m in \u001b[0;36mread_csv\u001b[0;34m(filepath_or_buffer, sep, delimiter, header, names, index_col, usecols, squeeze, prefix, mangle_dupe_cols, dtype, engine, converters, true_values, false_values, skipinitialspace, skiprows, skipfooter, nrows, na_values, keep_default_na, na_filter, verbose, skip_blank_lines, parse_dates, infer_datetime_format, keep_date_col, date_parser, dayfirst, cache_dates, iterator, chunksize, compression, thousands, decimal, lineterminator, quotechar, quoting, doublequote, escapechar, comment, encoding, encoding_errors, dialect, error_bad_lines, warn_bad_lines, on_bad_lines, delim_whitespace, low_memory, memory_map, float_precision, storage_options)\u001b[0m\n\u001b[1;32m    948\u001b[0m     \u001b[0mkwds\u001b[0m\u001b[0;34m.\u001b[0m\u001b[0mupdate\u001b[0m\u001b[0;34m(\u001b[0m\u001b[0mkwds_defaults\u001b[0m\u001b[0;34m)\u001b[0m\u001b[0;34m\u001b[0m\u001b[0;34m\u001b[0m\u001b[0m\n\u001b[1;32m    949\u001b[0m \u001b[0;34m\u001b[0m\u001b[0m\n\u001b[0;32m--> 950\u001b[0;31m     \u001b[0;32mreturn\u001b[0m \u001b[0m_read\u001b[0m\u001b[0;34m(\u001b[0m\u001b[0mfilepath_or_buffer\u001b[0m\u001b[0;34m,\u001b[0m \u001b[0mkwds\u001b[0m\u001b[0;34m)\u001b[0m\u001b[0;34m\u001b[0m\u001b[0;34m\u001b[0m\u001b[0m\n\u001b[0m\u001b[1;32m    951\u001b[0m \u001b[0;34m\u001b[0m\u001b[0m\n\u001b[1;32m    952\u001b[0m \u001b[0;34m\u001b[0m\u001b[0m\n",
            "\u001b[0;32m/usr/local/lib/python3.10/dist-packages/pandas/io/parsers/readers.py\u001b[0m in \u001b[0;36m_read\u001b[0;34m(filepath_or_buffer, kwds)\u001b[0m\n\u001b[1;32m    603\u001b[0m \u001b[0;34m\u001b[0m\u001b[0m\n\u001b[1;32m    604\u001b[0m     \u001b[0;31m# Create the parser.\u001b[0m\u001b[0;34m\u001b[0m\u001b[0;34m\u001b[0m\u001b[0m\n\u001b[0;32m--> 605\u001b[0;31m     \u001b[0mparser\u001b[0m \u001b[0;34m=\u001b[0m \u001b[0mTextFileReader\u001b[0m\u001b[0;34m(\u001b[0m\u001b[0mfilepath_or_buffer\u001b[0m\u001b[0;34m,\u001b[0m \u001b[0;34m**\u001b[0m\u001b[0mkwds\u001b[0m\u001b[0;34m)\u001b[0m\u001b[0;34m\u001b[0m\u001b[0;34m\u001b[0m\u001b[0m\n\u001b[0m\u001b[1;32m    606\u001b[0m \u001b[0;34m\u001b[0m\u001b[0m\n\u001b[1;32m    607\u001b[0m     \u001b[0;32mif\u001b[0m \u001b[0mchunksize\u001b[0m \u001b[0;32mor\u001b[0m \u001b[0miterator\u001b[0m\u001b[0;34m:\u001b[0m\u001b[0;34m\u001b[0m\u001b[0;34m\u001b[0m\u001b[0m\n",
            "\u001b[0;32m/usr/local/lib/python3.10/dist-packages/pandas/io/parsers/readers.py\u001b[0m in \u001b[0;36m__init__\u001b[0;34m(self, f, engine, **kwds)\u001b[0m\n\u001b[1;32m   1440\u001b[0m \u001b[0;34m\u001b[0m\u001b[0m\n\u001b[1;32m   1441\u001b[0m         \u001b[0mself\u001b[0m\u001b[0;34m.\u001b[0m\u001b[0mhandles\u001b[0m\u001b[0;34m:\u001b[0m \u001b[0mIOHandles\u001b[0m \u001b[0;34m|\u001b[0m \u001b[0;32mNone\u001b[0m \u001b[0;34m=\u001b[0m \u001b[0;32mNone\u001b[0m\u001b[0;34m\u001b[0m\u001b[0;34m\u001b[0m\u001b[0m\n\u001b[0;32m-> 1442\u001b[0;31m         \u001b[0mself\u001b[0m\u001b[0;34m.\u001b[0m\u001b[0m_engine\u001b[0m \u001b[0;34m=\u001b[0m \u001b[0mself\u001b[0m\u001b[0;34m.\u001b[0m\u001b[0m_make_engine\u001b[0m\u001b[0;34m(\u001b[0m\u001b[0mf\u001b[0m\u001b[0;34m,\u001b[0m \u001b[0mself\u001b[0m\u001b[0;34m.\u001b[0m\u001b[0mengine\u001b[0m\u001b[0;34m)\u001b[0m\u001b[0;34m\u001b[0m\u001b[0;34m\u001b[0m\u001b[0m\n\u001b[0m\u001b[1;32m   1443\u001b[0m \u001b[0;34m\u001b[0m\u001b[0m\n\u001b[1;32m   1444\u001b[0m     \u001b[0;32mdef\u001b[0m \u001b[0mclose\u001b[0m\u001b[0;34m(\u001b[0m\u001b[0mself\u001b[0m\u001b[0;34m)\u001b[0m \u001b[0;34m->\u001b[0m \u001b[0;32mNone\u001b[0m\u001b[0;34m:\u001b[0m\u001b[0;34m\u001b[0m\u001b[0;34m\u001b[0m\u001b[0m\n",
            "\u001b[0;32m/usr/local/lib/python3.10/dist-packages/pandas/io/parsers/readers.py\u001b[0m in \u001b[0;36m_make_engine\u001b[0;34m(self, f, engine)\u001b[0m\n\u001b[1;32m   1733\u001b[0m                 \u001b[0;32mif\u001b[0m \u001b[0;34m\"b\"\u001b[0m \u001b[0;32mnot\u001b[0m \u001b[0;32min\u001b[0m \u001b[0mmode\u001b[0m\u001b[0;34m:\u001b[0m\u001b[0;34m\u001b[0m\u001b[0;34m\u001b[0m\u001b[0m\n\u001b[1;32m   1734\u001b[0m                     \u001b[0mmode\u001b[0m \u001b[0;34m+=\u001b[0m \u001b[0;34m\"b\"\u001b[0m\u001b[0;34m\u001b[0m\u001b[0;34m\u001b[0m\u001b[0m\n\u001b[0;32m-> 1735\u001b[0;31m             self.handles = get_handle(\n\u001b[0m\u001b[1;32m   1736\u001b[0m                 \u001b[0mf\u001b[0m\u001b[0;34m,\u001b[0m\u001b[0;34m\u001b[0m\u001b[0;34m\u001b[0m\u001b[0m\n\u001b[1;32m   1737\u001b[0m                 \u001b[0mmode\u001b[0m\u001b[0;34m,\u001b[0m\u001b[0;34m\u001b[0m\u001b[0;34m\u001b[0m\u001b[0m\n",
            "\u001b[0;32m/usr/local/lib/python3.10/dist-packages/pandas/io/common.py\u001b[0m in \u001b[0;36mget_handle\u001b[0;34m(path_or_buf, mode, encoding, compression, memory_map, is_text, errors, storage_options)\u001b[0m\n\u001b[1;32m    854\u001b[0m         \u001b[0;32mif\u001b[0m \u001b[0mioargs\u001b[0m\u001b[0;34m.\u001b[0m\u001b[0mencoding\u001b[0m \u001b[0;32mand\u001b[0m \u001b[0;34m\"b\"\u001b[0m \u001b[0;32mnot\u001b[0m \u001b[0;32min\u001b[0m \u001b[0mioargs\u001b[0m\u001b[0;34m.\u001b[0m\u001b[0mmode\u001b[0m\u001b[0;34m:\u001b[0m\u001b[0;34m\u001b[0m\u001b[0;34m\u001b[0m\u001b[0m\n\u001b[1;32m    855\u001b[0m             \u001b[0;31m# Encoding\u001b[0m\u001b[0;34m\u001b[0m\u001b[0;34m\u001b[0m\u001b[0m\n\u001b[0;32m--> 856\u001b[0;31m             handle = open(\n\u001b[0m\u001b[1;32m    857\u001b[0m                 \u001b[0mhandle\u001b[0m\u001b[0;34m,\u001b[0m\u001b[0;34m\u001b[0m\u001b[0;34m\u001b[0m\u001b[0m\n\u001b[1;32m    858\u001b[0m                 \u001b[0mioargs\u001b[0m\u001b[0;34m.\u001b[0m\u001b[0mmode\u001b[0m\u001b[0;34m,\u001b[0m\u001b[0;34m\u001b[0m\u001b[0;34m\u001b[0m\u001b[0m\n",
            "\u001b[0;31mFileNotFoundError\u001b[0m: [Errno 2] No such file or directory: '/content/drive/MyDrive/Colab Notebooks/results/UNet.csv'"
          ]
        }
      ],
      "source": [
        "df = pd.read_csv(csv_path)\n",
        "#df.head(len(df))\n",
        "df.describe()"
      ]
    }
  ],
  "metadata": {
    "accelerator": "GPU",
    "colab": {
      "gpuType": "A100",
      "provenance": [],
      "machine_shape": "hm"
    },
    "kernelspec": {
      "display_name": "Python 3",
      "name": "python3"
    },
    "language_info": {
      "codemirror_mode": {
        "name": "ipython",
        "version": 3
      },
      "file_extension": ".py",
      "mimetype": "text/x-python",
      "name": "python",
      "nbconvert_exporter": "python",
      "pygments_lexer": "ipython3",
      "version": "3.11.3"
    }
  },
  "nbformat": 4,
  "nbformat_minor": 0
}