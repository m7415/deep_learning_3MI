{
  "cells": [
    {
      "cell_type": "code",
      "execution_count": 40,
      "metadata": {
        "execution": {
          "iopub.execute_input": "2023-05-26T12:54:53.734697Z",
          "iopub.status.busy": "2023-05-26T12:54:53.734249Z",
          "iopub.status.idle": "2023-05-26T12:54:53.828223Z",
          "shell.execute_reply": "2023-05-26T12:54:53.827237Z",
          "shell.execute_reply.started": "2023-05-26T12:54:53.734661Z"
        },
        "id": "_GvbpSq_piNz",
        "trusted": true
      },
      "outputs": [
        {
          "name": "stdout",
          "output_type": "stream",
          "text": [
            "The autoreload extension is already loaded. To reload it, use:\n",
            "  %reload_ext autoreload\n"
          ]
        }
      ],
      "source": [
        "# Nescessary imports\n",
        "\n",
        "%matplotlib inline\n",
        "\n",
        "# supress warnings\n",
        "import warnings\n",
        "warnings.filterwarnings('ignore')\n",
        "\n",
        "import os\n",
        "os.environ['TF_CPP_MIN_LOG_LEVEL'] = '2' # supress tensorflow warnings\n",
        "\n",
        "\n",
        "# import libraries\n",
        "import sys\n",
        "import random\n",
        "import time\n",
        "import numpy as np\n",
        "import pandas as pd\n",
        "import matplotlib.pyplot as plt\n",
        "import seaborn as sns\n",
        "from scipy.ndimage import rotate\n",
        "\n",
        "import tensorflow as tf\n",
        "from tensorflow import keras\n",
        "from keras.optimizers import Adadelta\n",
        "from sklearn.model_selection import train_test_split\n",
        "\n",
        "# set random seed\n",
        "random.seed(42)\n",
        "\n",
        "%load_ext autoreload"
      ]
    },
    {
      "cell_type": "code",
      "execution_count": 41,
      "metadata": {
        "execution": {
          "iopub.execute_input": "2023-05-26T12:54:53.912447Z",
          "iopub.status.busy": "2023-05-26T12:54:53.912109Z",
          "iopub.status.idle": "2023-05-26T12:54:56.081266Z",
          "shell.execute_reply": "2023-05-26T12:54:56.080064Z",
          "shell.execute_reply.started": "2023-05-26T12:54:53.912417Z"
        },
        "id": "WhXOtWSv37_J",
        "trusted": true
      },
      "outputs": [],
      "source": [
        "%autoreload 2\n",
        "from classes.data_wraper import Dataset\n",
        "from classes.UNet import UNet\n",
        "from classes.Experiment import Experiment\n",
        "from classes.utils import plot_map, plot_radial_profile, apply_mask"
      ]
    },
    {
      "cell_type": "code",
      "execution_count": 42,
      "metadata": {
        "colab": {
          "base_uri": "https://localhost:8080/"
        },
        "execution": {
          "iopub.execute_input": "2023-05-26T12:54:56.083551Z",
          "iopub.status.busy": "2023-05-26T12:54:56.083150Z",
          "iopub.status.idle": "2023-05-26T12:54:56.655106Z",
          "shell.execute_reply": "2023-05-26T12:54:56.653999Z",
          "shell.execute_reply.started": "2023-05-26T12:54:56.083513Z"
        },
        "id": "WTquIrB6B1xI",
        "outputId": "80088a17-3d1f-4c4f-d14b-e4c8d2d5902c",
        "trusted": true
      },
      "outputs": [],
      "source": [
        "# mount google drive if using google colab\n",
        "if 'google.colab' in sys.modules:\n",
        "    from google.colab import drive\n",
        "    drive.mount('/content/drive')"
      ]
    },
    {
      "cell_type": "code",
      "execution_count": 43,
      "metadata": {
        "execution": {
          "iopub.execute_input": "2023-05-26T12:54:56.660247Z",
          "iopub.status.busy": "2023-05-26T12:54:56.659961Z",
          "iopub.status.idle": "2023-05-26T12:54:56.739286Z",
          "shell.execute_reply": "2023-05-26T12:54:56.738338Z",
          "shell.execute_reply.started": "2023-05-26T12:54:56.660222Z"
        },
        "id": "KnHRA-Hc37_J",
        "trusted": true
      },
      "outputs": [],
      "source": [
        "if 'google.colab' in sys.modules:\n",
        "    root_dir = os.path.join(os.getcwd(), 'drive', 'MyDrive', 'Colab Notebooks')\n",
        "else:\n",
        "    root_dir = os.getcwd()\n",
        "\n",
        "if 'google.colab' in sys.modules:\n",
        "    data_dir = os.path.join(root_dir, 'data')\n",
        "else:\n",
        "    data_dir = os.path.join(root_dir, 'data')"
      ]
    },
    {
      "cell_type": "code",
      "execution_count": 44,
      "metadata": {
        "execution": {
          "iopub.execute_input": "2023-05-26T12:54:56.741204Z",
          "iopub.status.busy": "2023-05-26T12:54:56.740854Z",
          "iopub.status.idle": "2023-05-26T12:54:56.822709Z",
          "shell.execute_reply": "2023-05-26T12:54:56.821652Z",
          "shell.execute_reply.started": "2023-05-26T12:54:56.741171Z"
        },
        "id": "gkTFgvn337_K",
        "trusted": true
      },
      "outputs": [],
      "source": [
        "paths = {\n",
        "    'FOVfiting2' : os.path.join(data_dir, 'mapsCeline_FOVfitting_2_pol-60.mat'),\n",
        "    '3quadrants2' : os.path.join(data_dir, 'mapsCeline_3quadrants_2_pol-60.mat'),\n",
        "    'FOVfiting3' : os.path.join(data_dir, 'mapsCeline_FOVfitting_3_pol-60.mat'),\n",
        "    '3quadrants3' : os.path.join(data_dir, 'mapsCeline_3quadrants_3_pol-60.mat'),\n",
        "    'FOVfiting4' : os.path.join(data_dir, 'mapsCeline_FOVfitting_4_pol-60.mat'),\n",
        "    '3quadrants4' : os.path.join(data_dir, 'mapsCeline_3quadrants_4_pol-60.mat'),\n",
        "    'FOVfiting5' : os.path.join(data_dir, 'mapsCeline_FOVfitting_5_pol-60.mat'),\n",
        "    '3quadrants5' : os.path.join(data_dir, 'mapsCeline_3quadrants_5_pol-60.mat'),\n",
        "    'FOVfiting6' : os.path.join(data_dir, 'mapsCeline_FOVfitting_6_pol-60.mat'),\n",
        "    '3quadrants6' : os.path.join(data_dir, 'mapsCeline_3quadrants_6_pol-60.mat'),   \n",
        "    'FOVfiting9' : os.path.join(data_dir, 'mapsCeline_FOVfitting_9_pol-60.mat'),\n",
        "    '3quadrants9' : os.path.join(data_dir, 'mapsCeline_3quadrants_9_pol-60.mat'),\n",
        "    'FOVfiting9a' : os.path.join(data_dir, 'mapsCeline_FOVfitting_9a_polNP.mat'),\n",
        "    '3quadrants9a' : os.path.join(data_dir, 'mapsCeline_3quadrants_9a_polNP.mat')\n",
        "}"
      ]
    },
    {
      "cell_type": "code",
      "execution_count": 45,
      "metadata": {
        "colab": {
          "base_uri": "https://localhost:8080/"
        },
        "execution": {
          "iopub.execute_input": "2023-05-26T12:54:56.824794Z",
          "iopub.status.busy": "2023-05-26T12:54:56.824402Z",
          "iopub.status.idle": "2023-05-26T12:55:06.056509Z",
          "shell.execute_reply": "2023-05-26T12:55:06.055533Z",
          "shell.execute_reply.started": "2023-05-26T12:54:56.824752Z"
        },
        "id": "aiRl4jL1piN3",
        "outputId": "4462076d-72ef-48bb-9c88-4aa2a5e64240",
        "trusted": true
      },
      "outputs": [
        {
          "name": "stdout",
          "output_type": "stream",
          "text": [
            "Added data from c:\\Users\\f076048\\Documents\\Stage_CSL\\data\\mapsCeline_FOVfitting_2_pol-60.mat\n",
            "New lenght: 297\n"
          ]
        }
      ],
      "source": [
        "calibration_maps = [paths['FOVfiting2']]\n",
        "dataset = Dataset(calibration_maps, save_maps=True)"
      ]
    },
    {
      "cell_type": "code",
      "execution_count": 46,
      "metadata": {
        "execution": {
          "iopub.execute_input": "2023-05-26T12:55:06.058454Z",
          "iopub.status.busy": "2023-05-26T12:55:06.058065Z",
          "iopub.status.idle": "2023-05-26T12:55:06.150198Z",
          "shell.execute_reply": "2023-05-26T12:55:06.149224Z",
          "shell.execute_reply.started": "2023-05-26T12:55:06.058417Z"
        },
        "id": "CT3huijTpiN4",
        "trusted": true
      },
      "outputs": [],
      "source": [
        "dataset.preprocess_data()\n",
        "dataset.crop_data(128)"
      ]
    },
    {
      "cell_type": "code",
      "execution_count": 47,
      "metadata": {
        "id": "QtVx_qjj37_L"
      },
      "outputs": [],
      "source": [
        "X = np.stack((dataset.map1_list, dataset.map2_list, dataset.map3_list), axis=-1)\n",
        "y = dataset.combined_list\n",
        "azimut = dataset.azimut_list"
      ]
    },
    {
      "cell_type": "code",
      "execution_count": 75,
      "metadata": {
        "colab": {
          "base_uri": "https://localhost:8080/",
          "height": 489
        },
        "execution": {
          "iopub.execute_input": "2023-05-26T13:08:26.866405Z",
          "iopub.status.busy": "2023-05-26T13:08:26.866038Z",
          "iopub.status.idle": "2023-05-26T13:08:27.238566Z",
          "shell.execute_reply": "2023-05-26T13:08:27.237510Z",
          "shell.execute_reply.started": "2023-05-26T13:08:26.866376Z"
        },
        "id": "hUD-r4bWIHZ_",
        "outputId": "1783ad60-4418-4edc-ee25-6cedbc65bb54",
        "trusted": true
      },
      "outputs": [
        {
          "name": "stdout",
          "output_type": "stream",
          "text": [
            "Loaded model from c:\\Users\\f076048\\Documents\\Stage_CSL\\models\\UNet_mae\n",
            "Loaded model from c:\\Users\\f076048\\Documents\\Stage_CSL\\models\\UNet_mse\n"
          ]
        }
      ],
      "source": [
        "model = 'UNet'\n",
        "if 'google.colab' in sys.modules:\n",
        "    model_path = os.path.join(root_dir, model)\n",
        "else:\n",
        "    model_path = os.path.join(root_dir, 'models', model)\n",
        "model_path_mae = model_path + '_mae'\n",
        "unet_mae = UNet(model_path=model_path_mae)\n",
        "model_path_mse = model_path + '_mse'\n",
        "unet_mse = UNet(model_path=model_path_mse)"
      ]
    },
    {
      "cell_type": "code",
      "execution_count": null,
      "metadata": {},
      "outputs": [],
      "source": [
        "ind = random.randint(0, len(X)-1)\n",
        "pred = unet.model.predict(X[ind:ind+1])[0, :, :, 0]\n",
        "embeded = dataset.embed_map(pred, ind)\n",
        "plot_radial_profile([embeded], azimut[ind])"
      ]
    },
    {
      "cell_type": "code",
      "execution_count": null,
      "metadata": {},
      "outputs": [],
      "source": [
        "# compute stray light and plot stray light as a function of the x and y coordinates\n",
        "sl_list = []\n",
        "x_list = []\n",
        "y_list = []\n",
        "preds = unet.model.predict(X)\n",
        "for i, pred in enumerate(preds):\n",
        "    pred = pred[:, :, 0]\n",
        "    embeded = dataset.embed_map(pred, i)\n",
        "    x, y, sl = dataset.compute_stray_light(embeded)\n",
        "    sl_list.append(sl)\n",
        "    x_list.append(x)\n",
        "    y_list.append(y)"
      ]
    },
    {
      "cell_type": "code",
      "execution_count": null,
      "metadata": {},
      "outputs": [],
      "source": [
        "# scatter plot the map\n",
        "fig, ax = plt.subplots(figsize=(10, 10))\n",
        "ax.scatter(x_list, y_list, c=sl_list, cmap='jet', s=100, vmin=30000, vmax=35000)\n",
        "ax.set_xlabel('x')\n",
        "ax.set_ylabel('y')\n",
        "ax.set_title('Stray light as a function of the x and y coordinates')\n",
        "# add a scaled colorbar\n",
        "cbar = ax.figure.colorbar(ax.collections[0], ax=ax)\n",
        "cbar.ax.set_ylabel('Stray light', rotation=-90, va=\"bottom\")\n",
        "plt.show()"
      ]
    },
    {
      "cell_type": "code",
      "execution_count": null,
      "metadata": {},
      "outputs": [],
      "source": [
        "# plot the stray light as a function of the elevation\n",
        "sl_list_corr = [sl if sl < 35000 else 35000 for sl in sl_list]\n",
        "sl_list_corr = sl_list_corr / np.max(sl_list_corr)\n",
        "elevation = dataset.elevation_list\n",
        "plt.plot(elevation, sl_list_corr, 'o')\n",
        "plt.xlabel('Elevation')\n",
        "plt.ylabel('Stray light')\n",
        "plt.title('Stray light as a function of the elevation')\n",
        "plt.show()"
      ]
    }
  ],
  "metadata": {
    "accelerator": "GPU",
    "colab": {
      "gpuType": "A100",
      "machine_shape": "hm",
      "provenance": []
    },
    "kernelspec": {
      "display_name": "Python 3",
      "name": "python3"
    },
    "language_info": {
      "codemirror_mode": {
        "name": "ipython",
        "version": 3
      },
      "file_extension": ".py",
      "mimetype": "text/x-python",
      "name": "python",
      "nbconvert_exporter": "python",
      "pygments_lexer": "ipython3",
      "version": "3.11.3"
    }
  },
  "nbformat": 4,
  "nbformat_minor": 0
}
